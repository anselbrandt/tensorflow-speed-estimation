{
 "cells": [
  {
   "cell_type": "code",
   "execution_count": 1,
   "metadata": {},
   "outputs": [
    {
     "name": "stderr",
     "output_type": "stream",
     "text": [
      "2022-09-16 02:49:50.019989: I tensorflow/core/platform/cpu_feature_guard.cc:193] This TensorFlow binary is optimized with oneAPI Deep Neural Network Library (oneDNN) to use the following CPU instructions in performance-critical operations:  AVX2 FMA\n",
      "To enable them in other operations, rebuild TensorFlow with the appropriate compiler flags.\n"
     ]
    }
   ],
   "source": [
    "import numpy as np\n",
    "import pandas as pd\n",
    "from pathlib import Path\n",
    "import os.path\n",
    "\n",
    "from sklearn.model_selection import train_test_split\n",
    "\n",
    "import tensorflow as tf\n",
    "\n",
    "from sklearn.metrics import r2_score"
   ]
  },
  {
   "cell_type": "code",
   "execution_count": 2,
   "metadata": {},
   "outputs": [
    {
     "name": "stdout",
     "output_type": "stream",
     "text": [
      "20399\n"
     ]
    }
   ],
   "source": [
    "image_dir = Path(\"../data/customdata\")\n",
    "\n",
    "file = \"data/train_flow.txt\"\n",
    "\n",
    "speeds_list = []\n",
    "\n",
    "with open(file) as f:\n",
    "    for line in f: # read rest of lines\n",
    "        speeds_list.append(float(line))\n",
    "\n",
    "print(len(speeds_list))"
   ]
  },
  {
   "cell_type": "code",
   "execution_count": 3,
   "metadata": {},
   "outputs": [
    {
     "name": "stdout",
     "output_type": "stream",
     "text": [
      "                           Filepath      Speed\n",
      "0      ../data/customdata/12843.jpg   1.895863\n",
      "1       ../data/customdata/4230.jpg   1.142319\n",
      "2      ../data/customdata/13569.jpg  14.314065\n",
      "3       ../data/customdata/6695.jpg   8.651502\n",
      "4        ../data/customdata/556.jpg   1.904211\n",
      "...                             ...        ...\n",
      "20394  ../data/customdata/14064.jpg   7.032850\n",
      "20395   ../data/customdata/4368.jpg   8.477479\n",
      "20396  ../data/customdata/15206.jpg  22.861872\n",
      "20397  ../data/customdata/15351.jpg   8.200358\n",
      "20398  ../data/customdata/17670.jpg  22.412535\n",
      "\n",
      "[20399 rows x 2 columns]\n"
     ]
    }
   ],
   "source": [
    "filepaths = pd.Series(list(image_dir.glob(r'*.jpg')), name='Filepath').astype(str)\n",
    "\n",
    "speeds = pd.Series(speeds_list,name=\"Speed\").astype(np.float32)\n",
    "\n",
    "images = pd.concat([filepaths, speeds], axis=1).sample(frac=1.0, random_state=1).reset_index(drop=True)\n",
    "\n",
    "print(images)"
   ]
  },
  {
   "cell_type": "code",
   "execution_count": 4,
   "metadata": {},
   "outputs": [],
   "source": [
    "# Let's only use 5000 images to speed up training time\n",
    "# image_df = images.sample(5000, random_state=1).reset_index(drop=True)\n",
    "\n",
    "# Using all 20,399 images\n",
    "image_df = images\n",
    "\n",
    "train_df, test_df = train_test_split(image_df, train_size=0.7, shuffle=True, random_state=1)"
   ]
  },
  {
   "cell_type": "code",
   "execution_count": 5,
   "metadata": {},
   "outputs": [],
   "source": [
    "train_generator = tf.keras.preprocessing.image.ImageDataGenerator(\n",
    "    rescale=1./255,\n",
    "    validation_split=0.2\n",
    ")\n",
    "\n",
    "test_generator = tf.keras.preprocessing.image.ImageDataGenerator(\n",
    "    rescale=1./255\n",
    ")"
   ]
  },
  {
   "cell_type": "code",
   "execution_count": 6,
   "metadata": {},
   "outputs": [
    {
     "data": {
      "text/html": [
       "<div>\n",
       "<style scoped>\n",
       "    .dataframe tbody tr th:only-of-type {\n",
       "        vertical-align: middle;\n",
       "    }\n",
       "\n",
       "    .dataframe tbody tr th {\n",
       "        vertical-align: top;\n",
       "    }\n",
       "\n",
       "    .dataframe thead th {\n",
       "        text-align: right;\n",
       "    }\n",
       "</style>\n",
       "<table border=\"1\" class=\"dataframe\">\n",
       "  <thead>\n",
       "    <tr style=\"text-align: right;\">\n",
       "      <th></th>\n",
       "      <th>Filepath</th>\n",
       "      <th>Speed</th>\n",
       "    </tr>\n",
       "  </thead>\n",
       "  <tbody>\n",
       "    <tr>\n",
       "      <th>15178</th>\n",
       "      <td>../data/customdata/4522.jpg</td>\n",
       "      <td>2.648524</td>\n",
       "    </tr>\n",
       "    <tr>\n",
       "      <th>9203</th>\n",
       "      <td>../data/customdata/19060.jpg</td>\n",
       "      <td>22.169050</td>\n",
       "    </tr>\n",
       "    <tr>\n",
       "      <th>13695</th>\n",
       "      <td>../data/customdata/10655.jpg</td>\n",
       "      <td>22.558355</td>\n",
       "    </tr>\n",
       "    <tr>\n",
       "      <th>7124</th>\n",
       "      <td>../data/customdata/16825.jpg</td>\n",
       "      <td>4.168012</td>\n",
       "    </tr>\n",
       "    <tr>\n",
       "      <th>14721</th>\n",
       "      <td>../data/customdata/5309.jpg</td>\n",
       "      <td>24.156046</td>\n",
       "    </tr>\n",
       "    <tr>\n",
       "      <th>...</th>\n",
       "      <td>...</td>\n",
       "      <td>...</td>\n",
       "    </tr>\n",
       "    <tr>\n",
       "      <th>10955</th>\n",
       "      <td>../data/customdata/13037.jpg</td>\n",
       "      <td>7.237634</td>\n",
       "    </tr>\n",
       "    <tr>\n",
       "      <th>17289</th>\n",
       "      <td>../data/customdata/13352.jpg</td>\n",
       "      <td>1.583669</td>\n",
       "    </tr>\n",
       "    <tr>\n",
       "      <th>5192</th>\n",
       "      <td>../data/customdata/11021.jpg</td>\n",
       "      <td>1.515900</td>\n",
       "    </tr>\n",
       "    <tr>\n",
       "      <th>12172</th>\n",
       "      <td>../data/customdata/13325.jpg</td>\n",
       "      <td>7.559739</td>\n",
       "    </tr>\n",
       "    <tr>\n",
       "      <th>235</th>\n",
       "      <td>../data/customdata/2410.jpg</td>\n",
       "      <td>16.066031</td>\n",
       "    </tr>\n",
       "  </tbody>\n",
       "</table>\n",
       "<p>14279 rows × 2 columns</p>\n",
       "</div>"
      ],
      "text/plain": [
       "                           Filepath      Speed\n",
       "15178   ../data/customdata/4522.jpg   2.648524\n",
       "9203   ../data/customdata/19060.jpg  22.169050\n",
       "13695  ../data/customdata/10655.jpg  22.558355\n",
       "7124   ../data/customdata/16825.jpg   4.168012\n",
       "14721   ../data/customdata/5309.jpg  24.156046\n",
       "...                             ...        ...\n",
       "10955  ../data/customdata/13037.jpg   7.237634\n",
       "17289  ../data/customdata/13352.jpg   1.583669\n",
       "5192   ../data/customdata/11021.jpg   1.515900\n",
       "12172  ../data/customdata/13325.jpg   7.559739\n",
       "235     ../data/customdata/2410.jpg  16.066031\n",
       "\n",
       "[14279 rows x 2 columns]"
      ]
     },
     "execution_count": 6,
     "metadata": {},
     "output_type": "execute_result"
    }
   ],
   "source": [
    "train_df"
   ]
  },
  {
   "cell_type": "code",
   "execution_count": 7,
   "metadata": {},
   "outputs": [
    {
     "name": "stdout",
     "output_type": "stream",
     "text": [
      "Found 11424 validated image filenames.\n",
      "Found 2855 validated image filenames.\n",
      "Found 6120 validated image filenames.\n"
     ]
    }
   ],
   "source": [
    "#     target_size=(height, width)\n",
    "\n",
    "train_images = train_generator.flow_from_dataframe(\n",
    "    dataframe=train_df,\n",
    "    x_col='Filepath',\n",
    "    y_col='Speed',\n",
    "    target_size=(60, 80),\n",
    "    color_mode='rgb',\n",
    "    class_mode='raw',\n",
    "    batch_size=32,\n",
    "    shuffle=True,\n",
    "    seed=42,\n",
    "    subset='training'\n",
    ")\n",
    "\n",
    "val_images = train_generator.flow_from_dataframe(\n",
    "    dataframe=train_df,\n",
    "    x_col='Filepath',\n",
    "    y_col='Speed',\n",
    "    target_size=(60, 80),\n",
    "    color_mode='rgb',\n",
    "    class_mode='raw',\n",
    "    batch_size=32,\n",
    "    shuffle=True,\n",
    "    seed=42,\n",
    "    subset='validation'\n",
    ")\n",
    "\n",
    "test_images = test_generator.flow_from_dataframe(\n",
    "    dataframe=test_df,\n",
    "    x_col='Filepath',\n",
    "    y_col='Speed',\n",
    "    target_size=(60, 80),\n",
    "    color_mode='rgb',\n",
    "    class_mode='raw',\n",
    "    batch_size=32,\n",
    "    shuffle=False\n",
    ")"
   ]
  },
  {
   "cell_type": "code",
   "execution_count": 8,
   "metadata": {},
   "outputs": [
    {
     "name": "stderr",
     "output_type": "stream",
     "text": [
      "2022-09-16 02:50:10.929796: I tensorflow/core/platform/cpu_feature_guard.cc:193] This TensorFlow binary is optimized with oneAPI Deep Neural Network Library (oneDNN) to use the following CPU instructions in performance-critical operations:  AVX2 FMA\n",
      "To enable them in other operations, rebuild TensorFlow with the appropriate compiler flags.\n"
     ]
    },
    {
     "name": "stdout",
     "output_type": "stream",
     "text": [
      "Epoch 1/100\n",
      "357/357 [==============================] - 51s 140ms/step - loss: 76.3242 - val_loss: 69.0165\n",
      "Epoch 2/100\n",
      "357/357 [==============================] - 58s 163ms/step - loss: 67.7601 - val_loss: 68.6217\n",
      "Epoch 3/100\n",
      "357/357 [==============================] - 66s 184ms/step - loss: 67.7823 - val_loss: 70.6498\n",
      "Epoch 4/100\n",
      "357/357 [==============================] - 70s 195ms/step - loss: 67.5941 - val_loss: 70.8550\n",
      "Epoch 5/100\n",
      "357/357 [==============================] - 68s 189ms/step - loss: 67.6904 - val_loss: 69.4756\n",
      "Epoch 6/100\n",
      "357/357 [==============================] - 69s 194ms/step - loss: 67.5945 - val_loss: 68.3057\n",
      "Epoch 7/100\n",
      "357/357 [==============================] - 69s 193ms/step - loss: 67.8398 - val_loss: 68.4732\n",
      "Epoch 8/100\n",
      "357/357 [==============================] - 70s 195ms/step - loss: 67.4946 - val_loss: 68.8900\n",
      "Epoch 9/100\n",
      "357/357 [==============================] - 74s 208ms/step - loss: 67.5970 - val_loss: 68.3287\n",
      "Epoch 10/100\n",
      "357/357 [==============================] - 77s 215ms/step - loss: 67.5327 - val_loss: 73.6477\n",
      "Epoch 11/100\n",
      "357/357 [==============================] - 73s 205ms/step - loss: 67.7592 - val_loss: 68.5104\n"
     ]
    }
   ],
   "source": [
    "inputs = tf.keras.Input(shape=(60, 80, 3))\n",
    "x = tf.keras.layers.Conv2D(filters=16, kernel_size=(3, 3), activation='relu')(inputs)\n",
    "x = tf.keras.layers.MaxPool2D()(x)\n",
    "x = tf.keras.layers.Conv2D(filters=32, kernel_size=(3, 3), activation='relu')(x)\n",
    "x = tf.keras.layers.MaxPool2D()(x)\n",
    "x = tf.keras.layers.GlobalAveragePooling2D()(x)\n",
    "x = tf.keras.layers.Dense(64, activation='relu')(x)\n",
    "x = tf.keras.layers.Dense(64, activation='relu')(x)\n",
    "outputs = tf.keras.layers.Dense(1, activation='linear')(x)\n",
    "\n",
    "model = tf.keras.Model(inputs=inputs, outputs=outputs)\n",
    "\n",
    "model.compile(\n",
    "    optimizer='adam',\n",
    "    loss='mse'\n",
    ")\n",
    "\n",
    "history = model.fit(\n",
    "    train_images,\n",
    "    validation_data=val_images,\n",
    "    epochs=100,\n",
    "    callbacks=[\n",
    "        tf.keras.callbacks.EarlyStopping(\n",
    "            monitor='val_loss',\n",
    "            patience=5,\n",
    "            restore_best_weights=True\n",
    "        )\n",
    "    ]\n",
    ")"
   ]
  },
  {
   "cell_type": "code",
   "execution_count": 10,
   "metadata": {},
   "outputs": [
    {
     "name": "stdout",
     "output_type": "stream",
     "text": [
      "192/192 [==============================] - 30s 155ms/step\n",
      "     Test RMSE: 8.22049\n",
      "Test R^2 Score: -0.00142\n"
     ]
    }
   ],
   "source": [
    "predicted_speeds = np.squeeze(model.predict(test_images))\n",
    "true_speeds = test_images.labels\n",
    "\n",
    "rmse = np.sqrt(model.evaluate(test_images, verbose=0))\n",
    "print(\"     Test RMSE: {:.5f}\".format(rmse))\n",
    "\n",
    "r2 = r2_score(true_speeds, predicted_speeds)\n",
    "print(\"Test R^2 Score: {:.5f}\".format(r2))"
   ]
  },
  {
   "cell_type": "code",
   "execution_count": 11,
   "metadata": {},
   "outputs": [
    {
     "name": "stdout",
     "output_type": "stream",
     "text": [
      "Null/Baseline Model Test RMSE: 8.21466\n"
     ]
    }
   ],
   "source": [
    "null_rmse = np.sqrt(np.sum((true_speeds - np.mean(true_speeds))**2) / len(true_speeds))\n",
    "print(\"Null/Baseline Model Test RMSE: {:.5f}\".format(null_rmse))"
   ]
  }
 ],
 "metadata": {
  "kernelspec": {
   "display_name": "Python 3.10.6 64-bit ('3.10.6')",
   "language": "python",
   "name": "python3"
  },
  "language_info": {
   "codemirror_mode": {
    "name": "ipython",
    "version": 3
   },
   "file_extension": ".py",
   "mimetype": "text/x-python",
   "name": "python",
   "nbconvert_exporter": "python",
   "pygments_lexer": "ipython3",
   "version": "3.10.6"
  },
  "orig_nbformat": 4,
  "vscode": {
   "interpreter": {
    "hash": "20ef86c20049361475aaaa8223e2b30af07e99e2c82fd51c713d1712f3b4e125"
   }
  }
 },
 "nbformat": 4,
 "nbformat_minor": 2
}
