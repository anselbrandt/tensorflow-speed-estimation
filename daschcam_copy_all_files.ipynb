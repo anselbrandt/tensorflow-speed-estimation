{
 "cells": [
  {
   "cell_type": "code",
   "execution_count": null,
   "metadata": {},
   "outputs": [],
   "source": [
    "file = \"../data/train.txt\"\n",
    "\n",
    "speeds = []\n",
    "\n",
    "with open(file) as f:\n",
    "    for line in f: # read rest of lines\n",
    "        speeds.append(float(line))\n",
    "\n",
    "print(len(speeds))"
   ]
  },
  {
   "cell_type": "code",
   "execution_count": 2,
   "metadata": {},
   "outputs": [],
   "source": [
    "from pathlib import Path\n",
    "\n",
    "image_dir = Path(\"../data/flowdata/\")"
   ]
  },
  {
   "cell_type": "code",
   "execution_count": null,
   "metadata": {},
   "outputs": [],
   "source": [
    "import shutil\n",
    "from pathlib import Path\n",
    "\n",
    "def makeDir(pathStr):\n",
    "    dest = Path(pathStr)\n",
    "\n",
    "    if dest.is_dir():\n",
    "        print(f\"{dest} directory exists.\")\n",
    "    else:\n",
    "        print(f\"Did not find {dest} directory, creating one...\")\n",
    "        dest.mkdir(parents=True, exist_ok=True)\n",
    "\n",
    "dest_dir = \"../data/customdata/\"\n",
    "\n",
    "makeDir(dest_dir)\n",
    "\n",
    "def copyFiles(indexList,destStr):\n",
    "    for index in indexList:\n",
    "        filename = f\"../data/flowdata/predicted_flow_{index}.jpg\"\n",
    "        dest = f\"{destStr}/{index}.jpg\"\n",
    "        shutil.copy(filename,dest)\n",
    "\n",
    "copyFiles(range(0,len(speeds)-1),dest_dir)"
   ]
  }
 ],
 "metadata": {
  "kernelspec": {
   "display_name": "Python 3.10.6 64-bit ('3.10.6')",
   "language": "python",
   "name": "python3"
  },
  "language_info": {
   "codemirror_mode": {
    "name": "ipython",
    "version": 3
   },
   "file_extension": ".py",
   "mimetype": "text/x-python",
   "name": "python",
   "nbconvert_exporter": "python",
   "pygments_lexer": "ipython3",
   "version": "3.10.6"
  },
  "orig_nbformat": 4,
  "vscode": {
   "interpreter": {
    "hash": "20ef86c20049361475aaaa8223e2b30af07e99e2c82fd51c713d1712f3b4e125"
   }
  }
 },
 "nbformat": 4,
 "nbformat_minor": 2
}
